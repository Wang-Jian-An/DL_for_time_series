{
 "cells": [
  {
   "cell_type": "code",
   "execution_count": 1,
   "metadata": {},
   "outputs": [],
   "source": [
    "import os\n",
    "import numpy as np\n",
    "import pandas as pd\n",
    "from sklearn.model_selection import train_test_split"
   ]
  },
  {
   "cell_type": "code",
   "execution_count": 2,
   "metadata": {},
   "outputs": [],
   "source": [
    "df = pd.read_csv(\"./data/energydata_complete.csv\")\n",
    "\n",
    "target_name = \"Appliances\"\n",
    "continuous_features = [\n",
    "    \"lights\",\n",
    "    \"T1\", \n",
    "    \"RH_1\",\n",
    "    \"T2\",\n",
    "    \"RH_2\",\n",
    "    \"T3\",\n",
    "    \"RH_3\",\n",
    "    \"T4\",\n",
    "    \"RH_4\",\n",
    "    \"T5\",\n",
    "    \"RH_5\",\n",
    "    \"T6\",\n",
    "    \"RH_6\",\n",
    "    \"T7\",\n",
    "    \"RH_7\",\n",
    "    \"T8\",\n",
    "    \"RH_8\",\n",
    "    \"T9\",\n",
    "    \"RH_9\",\n",
    "    \"T_out\",\n",
    "    \"RH_out\",\n",
    "    \"Press_mm_hg\",\n",
    "    \"Windspeed\"\n",
    "]\n",
    "during_training = 15\n",
    "after_prediction = 5\n",
    "data_groups = df.shape[0] // (during_training + after_prediction)"
   ]
  },
  {
   "cell_type": "code",
   "execution_count": 3,
   "metadata": {},
   "outputs": [],
   "source": [
    "X = list()\n",
    "y = list()\n",
    "for one_batch in range(data_groups):\n",
    "    X.append(df[continuous_features].iloc[one_batch:during_training+one_batch].values.tolist())\n",
    "    y.append(df[target_name].iloc[during_training+after_prediction+one_batch])\n",
    "\n",
    "X = np.array(X)\n",
    "y = np.array(y)\n",
    "\n",
    "train_X, test_X, train_y, test_y = train_test_split(X, y, test_size = 0.2, shuffle = True)"
   ]
  },
  {
   "cell_type": "code",
   "execution_count": 4,
   "metadata": {},
   "outputs": [
    {
     "data": {
      "text/plain": [
       "(788, 15, 23)"
      ]
     },
     "execution_count": 4,
     "metadata": {},
     "output_type": "execute_result"
    }
   ],
   "source": [
    "train_X.shape"
   ]
  },
  {
   "cell_type": "code",
   "execution_count": 5,
   "metadata": {},
   "outputs": [],
   "source": [
    "DL_layers = [\n",
    "    {\n",
    "        \"RNN\": {\n",
    "            \"input_size\": train_X.shape[-1],\n",
    "            \"hidden_size\": train_X.shape[-1] // 2,\n",
    "            \"num_layers\": 3,\n",
    "            \"bidirectional\": True\n",
    "        }\n",
    "    },\n",
    "    {\n",
    "        \"self-attention\": {\n",
    "            \"embed_size\": train_X.shape[-1] // 2 * 2,\n",
    "            \"target_length\": train_X.shape[1],\n",
    "            \"target_compression_length\": 3,\n",
    "            \"num_heads\": 2\n",
    "        }\n",
    "    }, \n",
    "    {\n",
    "        \"LSTM\": {\n",
    "            \"input_size\": train_X.shape[-1] // 2 * 2,\n",
    "            \"hidden_size\": 1,\n",
    "            \"num_layers\": 3,\n",
    "            \"bidirectional\": True\n",
    "        }        \n",
    "    },\n",
    "    {\n",
    "        \"flatten\": {}        \n",
    "    },\n",
    "    {\n",
    "        \"linear\": {\n",
    "            \"in_features\": train_X.shape[1] * 2,\n",
    "            \"out_features\": 1\n",
    "        }\n",
    "    }\n",
    "]"
   ]
  },
  {
   "cell_type": "code",
   "execution_count": 6,
   "metadata": {},
   "outputs": [
    {
     "data": {
      "text/plain": [
       "22"
      ]
     },
     "execution_count": 6,
     "metadata": {},
     "output_type": "execute_result"
    }
   ],
   "source": [
    "train_X.shape[-1] // 2 * 2"
   ]
  },
  {
   "cell_type": "code",
   "execution_count": 7,
   "metadata": {},
   "outputs": [
    {
     "name": "stdout",
     "output_type": "stream",
     "text": [
      "sample_model(\n",
      "  (model): Sequential(\n",
      "    (0): RNN_block(\n",
      "      (model): RNN(23, 11, num_layers=3, batch_first=True, bidirectional=True)\n",
      "    )\n",
      "    (1): self_attention_block(\n",
      "      (model): MultiheadAttention(\n",
      "        (out_proj): NonDynamicallyQuantizableLinear(in_features=110, out_features=110, bias=True)\n",
      "      )\n",
      "    )\n",
      "    (2): LSTM_block(\n",
      "      (model): LSTM(22, 1, num_layers=3, batch_first=True, bidirectional=True)\n",
      "    )\n",
      "    (3): flatten_block(\n",
      "      (model): Flatten(start_dim=1, end_dim=-1)\n",
      "    )\n",
      "    (4): linear_block(\n",
      "      (model): Linear(in_features=30, out_features=1, bias=True)\n",
      "    )\n",
      "  )\n",
      ")\n",
      "Epoch:  0 Train Loss:  28588.90997558594 Test Loss:  33394.23670372596\n",
      "Epoch:  1 Train Loss:  28362.752016601564 Test Loss:  33066.00510817308\n",
      "Epoch:  2 Train Loss:  28010.477080078126 Test Loss:  32627.32384314904\n",
      "Epoch:  3 Train Loss:  27606.35599609375 Test Loss:  32170.02869591346\n",
      "Epoch:  4 Train Loss:  27210.5667578125 Test Loss:  31738.51329627404\n",
      "Epoch:  5 Train Loss:  26826.058212890624 Test Loss:  31316.125150240383\n",
      "Epoch:  6 Train Loss:  26463.489814453125 Test Loss:  30930.98993389423\n",
      "Epoch:  7 Train Loss:  26121.2796875 Test Loss:  30542.591271033652\n",
      "Epoch:  8 Train Loss:  25796.631796875 Test Loss:  30195.83045372596\n",
      "Epoch:  9 Train Loss:  25476.637954101563 Test Loss:  29850.09532752404\n",
      "Epoch:  10 Train Loss:  25174.904799804688 Test Loss:  29505.34758112981\n",
      "Epoch:  11 Train Loss:  24882.623520507812 Test Loss:  29183.76945612981\n",
      "Epoch:  12 Train Loss:  24608.925295410158 Test Loss:  28876.56843449519\n",
      "Epoch:  13 Train Loss:  24347.59517578125 Test Loss:  28574.901517427883\n",
      "Epoch:  14 Train Loss:  24082.48123779297 Test Loss:  28281.658165564902\n",
      "Epoch:  15 Train Loss:  23833.862595214843 Test Loss:  28007.699068509617\n",
      "Epoch:  16 Train Loss:  23578.601865234374 Test Loss:  27717.55476262019\n",
      "Epoch:  17 Train Loss:  23342.974313964845 Test Loss:  27457.18761268029\n",
      "Epoch:  18 Train Loss:  23120.0573046875 Test Loss:  27196.76434795673\n",
      "Epoch:  19 Train Loss:  22906.367216796876 Test Loss:  26971.31914813702\n",
      "Epoch:  20 Train Loss:  22690.09000732422 Test Loss:  26701.33308293269\n",
      "Epoch:  21 Train Loss:  22475.317669677734 Test Loss:  26462.31017127404\n",
      "Epoch:  22 Train Loss:  22260.850388183593 Test Loss:  26244.07609675481\n",
      "Epoch:  23 Train Loss:  22070.33899169922 Test Loss:  26031.11027644231\n",
      "Epoch:  24 Train Loss:  21883.07589477539 Test Loss:  25755.612154447117\n",
      "Epoch:  25 Train Loss:  21695.011577148438 Test Loss:  25590.95763221154\n",
      "Epoch:  26 Train Loss:  21521.16146606445 Test Loss:  25375.98039362981\n",
      "Epoch:  27 Train Loss:  21322.69824707031 Test Loss:  25131.72911658654\n",
      "Epoch:  28 Train Loss:  21158.055747070313 Test Loss:  24958.65685096154\n",
      "Epoch:  29 Train Loss:  20991.631861572267 Test Loss:  24772.339092548078\n"
     ]
    }
   ],
   "source": [
    "from DL_for_time_series import DL_time_series_training_flow\n",
    "training_obj = DL_time_series_training_flow(\n",
    "    num_of_time_series_features = train_X.shape[-1],\n",
    "    num_of_time_series_sequences = train_X.shape[1],\n",
    "    DL_layers = DL_layers,\n",
    "    loss_func = \"mse\",\n",
    "    optimizer = \"adam\",\n",
    "    epochs = 30,\n",
    "    target_type = \"regression\"\n",
    ")\n",
    "result = training_obj.fit(\n",
    "    train_X = train_X,\n",
    "    train_y = train_y,\n",
    "    test_X = test_X,\n",
    "    test_y = test_y,\n",
    "    batch_size = 16\n",
    ")"
   ]
  },
  {
   "cell_type": "code",
   "execution_count": null,
   "metadata": {},
   "outputs": [],
   "source": []
  },
  {
   "cell_type": "code",
   "execution_count": null,
   "metadata": {},
   "outputs": [],
   "source": []
  }
 ],
 "metadata": {
  "kernelspec": {
   "display_name": "py3.12.4",
   "language": "python",
   "name": "python3"
  },
  "language_info": {
   "codemirror_mode": {
    "name": "ipython",
    "version": 3
   },
   "file_extension": ".py",
   "mimetype": "text/x-python",
   "name": "python",
   "nbconvert_exporter": "python",
   "pygments_lexer": "ipython3",
   "version": "3.12.4"
  }
 },
 "nbformat": 4,
 "nbformat_minor": 2
}
